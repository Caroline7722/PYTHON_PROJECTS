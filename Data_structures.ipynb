{
 "cells": [
  {
   "cell_type": "code",
   "execution_count": 1,
   "id": "7d569485-1cf3-4be0-8df6-b5a3a0ca58f9",
   "metadata": {},
   "outputs": [
    {
     "name": "stdout",
     "output_type": "stream",
     "text": [
      "After append: [1, 2, 3, 4, 5, 6]\n",
      "After extend: [1, 2, 3, 4, 5, 6, 7, 8, 9]\n"
     ]
    }
   ],
   "source": [
    "#Create a list with at least five elements and demonstrate how to use `append()` and `extend()`.\n",
    "# Create a list with five elements\n",
    "my_list = [1, 2, 3, 4, 5]\n",
    "\n",
    "# Use append() \n",
    "my_list.append(6)\n",
    "print(\"After append:\", my_list)\n",
    "\n",
    "\n",
    "# Use extend() to add multiple elements to the end of the list\n",
    "my_list.extend([7, 8, 9])\n",
    "print(\"After extend:\", my_list)\n",
    "\n"
   ]
  },
  {
   "cell_type": "code",
   "execution_count": 2,
   "id": "58973f4b-4f60-4ba4-9391-bc62c7a10630",
   "metadata": {},
   "outputs": [
    {
     "name": "stdout",
     "output_type": "stream",
     "text": [
      "[3, 99, 9, 12, 15]\n"
     ]
    }
   ],
   "source": [
    "# Given a list `numbers = [3, 6, 9, 12, 15]`, insert `99` at index `2` and remove `6` from the list.\n",
    "numbers = [3, 6, 9, 12, 15]\n",
    "\n",
    "numbers.insert(2, 99)\n",
    "\n",
    "\n",
    "numbers.remove(6)\n",
    "\n",
    "print(numbers)\n"
   ]
  },
  {
   "cell_type": "code",
   "execution_count": 3,
   "id": "508219bd-bb4c-465e-8e5f-360b4a6811c0",
   "metadata": {},
   "outputs": [
    {
     "name": "stdout",
     "output_type": "stream",
     "text": [
      "['cherry', 'banana', 'apple']\n"
     ]
    }
   ],
   "source": [
    "# Reverse the list `['apple', 'banana', 'cherry']` using the appropriate method.\n",
    "fruits = ['apple', 'banana', 'cherry']\n",
    "fruits.reverse()\n",
    "print(fruits)\n"
   ]
  },
  {
   "cell_type": "code",
   "execution_count": 4,
   "id": "cd18ac23-86bd-44f1-8c69-1d2092e76b61",
   "metadata": {},
   "outputs": [
    {
     "name": "stdout",
     "output_type": "stream",
     "text": [
      "[78, 56, 23, 12, 4, 1]\n"
     ]
    }
   ],
   "source": [
    "#Sort the list `[12, 4, 56, 78, 23, 1]` in **descending order**.\n",
    "numbers = [12, 4, 56, 78, 23, 1]\n",
    "sorted_numbers = sorted(numbers, reverse=True)\n",
    "print(sorted_numbers)\n"
   ]
  },
  {
   "cell_type": "code",
   "execution_count": 6,
   "id": "bb9a8928-8ab0-4e0d-9005-eea971299a60",
   "metadata": {},
   "outputs": [
    {
     "name": "stdout",
     "output_type": "stream",
     "text": [
      "Number of times 5 appears in the list: 3\n"
     ]
    }
   ],
   "source": [
    "#Write a Python program to count the occurrences of `5` in the list `[5, 1, 5, 2, 5, 3]`.\n",
    "numbers = [5, 1, 5, 2, 5, 3]\n",
    "\n",
    "# Count the occurrences of 5\n",
    "count_5 = numbers.count(5)\n",
    "\n",
    "print(\"Number of times 5 appears in the list:\", count_5)\n"
   ]
  },
  {
   "cell_type": "code",
   "execution_count": 7,
   "id": "066f55c4-0586-45dc-931d-edfe53cb0944",
   "metadata": {},
   "outputs": [
    {
     "name": "stdout",
     "output_type": "stream",
     "text": [
      "Removed element: 40\n",
      "Updated list: [10, 20, 30]\n"
     ]
    }
   ],
   "source": [
    "#Use `pop()` to remove and print the last element of `[10, 20, 30, 40]`.\n",
    "\n",
    "numbers = [10, 20, 30, 40]\n",
    "\n",
    "# Use pop() to remove and return the last element\n",
    "last_element = numbers.pop()\n",
    "\n",
    "# Print the removed element\n",
    "print(\"Removed element:\", last_element)\n",
    "\n",
    "# Print the updated list\n",
    "print(\"Updated list:\", numbers)\n"
   ]
  },
  {
   "cell_type": "code",
   "execution_count": 8,
   "id": "ffb3e400-7c4a-4a11-833d-730565eb0362",
   "metadata": {},
   "outputs": [
    {
     "name": "stdout",
     "output_type": "stream",
     "text": [
      "Original list: [1, 2, 3, 4]\n",
      "Copied and modified list: [1, 2, 3, 4, 5]\n"
     ]
    }
   ],
   "source": [
    "#Copy a list using the `copy()` method and modify the new list without affecting the original.\n",
    "\n",
    "original_list = [1, 2, 3, 4]\n",
    "\n",
    "# Copy the list using copy()\n",
    "copied_list = original_list.copy()\n",
    "\n",
    "# Modify the copied list\n",
    "copied_list.append(5)\n",
    "\n",
    "# Print both lists\n",
    "print(\"Original list:\", original_list)\n",
    "print(\"Copied and modified list:\", copied_list)\n"
   ]
  },
  {
   "cell_type": "code",
   "execution_count": 9,
   "id": "47a77624-0d97-4b20-8162-68ee8112c1d9",
   "metadata": {},
   "outputs": [
    {
     "name": "stdout",
     "output_type": "stream",
     "text": [
      "Index of 20: 1\n"
     ]
    }
   ],
   "source": [
    "#Find and print the index of `20` in `[10, 20, 30, 40]`\n",
    "\n",
    "numbers = [10, 20, 30, 40]\n",
    "\n",
    "# Find the index of 20\n",
    "index_of_20 = numbers.index(20)\n",
    "\n",
    "# Print the result\n",
    "print(\"Index of 20:\", index_of_20)\n"
   ]
  },
  {
   "cell_type": "code",
   "execution_count": 10,
   "id": "8fbe953a-b38d-4219-8e1a-4f6d699150aa",
   "metadata": {},
   "outputs": [
    {
     "name": "stdout",
     "output_type": "stream",
     "text": [
      "Second element: 200\n"
     ]
    }
   ],
   "source": [
    "#Create a tuple tup = (100, 200, 300, 400, 500), and print the second element.\n",
    "\n",
    "tup = (100, 200, 300, 400, 500)\n",
    "\n",
    "#print the second element\n",
    "print(\"Second element:\", tup[1])\n"
   ]
  },
  {
   "cell_type": "code",
   "execution_count": 11,
   "id": "07139188-d066-4d2f-8dde-b614bc19ca9b",
   "metadata": {},
   "outputs": [
    {
     "name": "stdout",
     "output_type": "stream",
     "text": [
      "Number of times 10 appears: 2\n"
     ]
    }
   ],
   "source": [
    "#Given a tuple (5, 10, 15, 10, 20), find how many times 10 appears.\n",
    "\n",
    "tup = (5, 10, 15, 10, 20)\n",
    "\n",
    "# Count how many times 10 appears\n",
    "count_10 = tup.count(10)\n",
    "\n",
    "print(\"Number of times 10 appears:\", count_10)\n"
   ]
  },
  {
   "cell_type": "code",
   "execution_count": 12,
   "id": "04109905-447b-4b37-b792-4fbefacf0fc3",
   "metadata": {},
   "outputs": [
    {
     "name": "stdout",
     "output_type": "stream",
     "text": [
      "Updated tuple: (1, 2, 3, 4, 5, 6)\n"
     ]
    }
   ],
   "source": [
    "#Convert the tuple (1, 2, 3, 4, 5) into a list, append 6, and convert it back into a tuple.\n",
    "\n",
    "tup = (1, 2, 3, 4, 5)\n",
    "\n",
    "# Convert to list\n",
    "temp_list = list(tup)\n",
    "\n",
    "# Append 6 to the list\n",
    "temp_list.append(6)\n",
    "\n",
    "# Convert back to tuple\n",
    "new_tup = tuple(temp_list)\n",
    "\n",
    "print(\"Updated tuple:\", new_tup)\n"
   ]
  },
  {
   "cell_type": "code",
   "execution_count": 13,
   "id": "0cc33862-4687-4042-bffb-ed85147564c1",
   "metadata": {},
   "outputs": [
    {
     "name": "stdout",
     "output_type": "stream",
     "text": [
      "50 exists in the tuple.\n"
     ]
    }
   ],
   "source": [
    "#Check if 50 exists in the tuple (10, 20, 30, 40, 50).\n",
    "\n",
    "tup = (10, 20, 30, 40, 50)\n",
    "\n",
    "# Check if 50 exists in the tuple\n",
    "if 50 in tup:\n",
    "    print(\"50 exists in the tuple.\")\n",
    "\n"
   ]
  },
  {
   "cell_type": "code",
   "execution_count": 14,
   "id": "88eb59a2-9476-45bb-8de8-ec3d02041792",
   "metadata": {},
   "outputs": [
    {
     "name": "stdout",
     "output_type": "stream",
     "text": [
      "Color 1: red\n",
      "Color 2: green\n",
      "Color 3: blue\n"
     ]
    }
   ],
   "source": [
    "#Unpack the tuple ('red', 'green', 'blue') into three variables and print them.\n",
    "\n",
    "colors = ('red', 'green', 'blue')\n",
    "\n",
    "# Unpack the tuple into variables\n",
    "color1, color2, color3 = colors\n",
    "\n",
    "# Print the variables\n",
    "print(\"Color 1:\", color1)\n",
    "print(\"Color 2:\", color2)\n",
    "print(\"Color 3:\", color3)\n"
   ]
  },
  {
   "cell_type": "code",
   "execution_count": 15,
   "id": "b369c65b-7bf9-4f40-82fd-ec37308181ee",
   "metadata": {},
   "outputs": [
    {
     "name": "stdout",
     "output_type": "stream",
     "text": [
      "Union of sets: {1, 2, 3, 4, 5, 6}\n"
     ]
    }
   ],
   "source": [
    "#Create two sets {1, 2, 3, 4} and {3, 4, 5, 6} and find their union.\n",
    "\n",
    "set1 = {1, 2, 3, 4}\n",
    "set2 = {3, 4, 5, 6}\n",
    "\n",
    "# Find the union of the sets\n",
    "union_set = set1.union(set2)\n",
    "\n",
    "print(\"Union of sets:\", union_set)\n"
   ]
  },
  {
   "cell_type": "code",
   "execution_count": 16,
   "id": "5af91f52-dd52-40ae-86f2-8d6206258f73",
   "metadata": {},
   "outputs": [
    {
     "name": "stdout",
     "output_type": "stream",
     "text": [
      "Intersection of sets: {2, 4}\n"
     ]
    }
   ],
   "source": [
    "#Find the intersection of {2, 4, 6, 8} and {1, 2, 3, 4}.\n",
    "\n",
    "set1 = {2, 4, 6, 8}\n",
    "set2 = {1, 2, 3, 4}\n",
    "\n",
    "# Find the intersection\n",
    "intersection_set = set1.intersection(set2)\n",
    "\n",
    "print(\"Intersection of sets:\", intersection_set)\n"
   ]
  },
  {
   "cell_type": "code",
   "execution_count": 17,
   "id": "eb97b69c-1f29-4dda-86be-7ed3e0a3efa0",
   "metadata": {},
   "outputs": [
    {
     "name": "stdout",
     "output_type": "stream",
     "text": [
      "Updated set: {1, 2, 3, 4, 5, 10}\n"
     ]
    }
   ],
   "source": [
    "#Demonstrate how to add an element 10 to a set {1, 2, 3, 4, 5}.\n",
    "\n",
    "my_set = {1, 2, 3, 4, 5}\n",
    "\n",
    "# Add 10 to the set\n",
    "my_set.add(10)\n",
    "\n",
    "print(\"Updated set:\", my_set)\n"
   ]
  },
  {
   "cell_type": "code",
   "execution_count": 18,
   "id": "9a463d33-943c-434c-8eba-aec0042f6a73",
   "metadata": {},
   "outputs": [
    {
     "name": "stdout",
     "output_type": "stream",
     "text": [
      "Updated set: {40, 10, 30}\n"
     ]
    }
   ],
   "source": [
    "#Given my_set = {10, 20, 30, 40}, remove 20 using the discard() method.\n",
    "\n",
    "my_set = {10, 20, 30, 40}\n",
    "\n",
    "# Remove 20 using discard()\n",
    "my_set.discard(20)\n",
    "\n",
    "print(\"Updated set:\", my_set)\n"
   ]
  },
  {
   "cell_type": "code",
   "execution_count": 19,
   "id": "b879f202-1592-4957-ae2b-e44f3ada56d2",
   "metadata": {},
   "outputs": [
    {
     "name": "stdout",
     "output_type": "stream",
     "text": [
      "Difference: {10}\n"
     ]
    }
   ],
   "source": [
    "#Find the difference between {10, 20, 30} and {20, 30, 40}.\n",
    "\n",
    "set1 = {10, 20, 30}\n",
    "set2 = {20, 30, 40}\n",
    "\n",
    "# Find the difference: elements in set1 but not in set2\n",
    "difference = set1.difference(set2)\n",
    "\n",
    "print(\"Difference:\", difference)\n"
   ]
  },
  {
   "cell_type": "code",
   "execution_count": 20,
   "id": "9877f8f2-e521-46cb-ba62-1740ffe9f95d",
   "metadata": {},
   "outputs": [
    {
     "name": "stdout",
     "output_type": "stream",
     "text": [
      "Cleared set: set()\n"
     ]
    }
   ],
   "source": [
    "#Clear all elements from a set {1, 2, 3} and print the result.\n",
    "\n",
    "my_set = {1, 2, 3}\n",
    "\n",
    "# Clear all elements\n",
    "my_set.clear()\n",
    "\n",
    "print(\"Cleared set:\", my_set)\n"
   ]
  },
  {
   "cell_type": "code",
   "execution_count": 21,
   "id": "c4bd1f6d-8dbb-46bb-94b8-4f41b4b620aa",
   "metadata": {},
   "outputs": [
    {
     "name": "stdout",
     "output_type": "stream",
     "text": [
      "Unique values: {1, 2, 3, 4, 5}\n"
     ]
    }
   ],
   "source": [
    "#Convert the list [1, 2, 2, 3, 3, 4, 5, 5] into a set and print the unique values.\n",
    "\n",
    "my_list = [1, 2, 2, 3, 3, 4, 5, 5]\n",
    "\n",
    "# Convert the list to a set to get unique values\n",
    "unique_values = set(my_list)\n",
    "\n",
    "print(\"Unique values:\", unique_values)\n"
   ]
  },
  {
   "cell_type": "code",
   "execution_count": 22,
   "id": "81bc4648-e26c-42ce-927e-0c706ffd3252",
   "metadata": {},
   "outputs": [
    {
     "name": "stdout",
     "output_type": "stream",
     "text": [
      "Alice's age: 20\n"
     ]
    }
   ],
   "source": [
    "#Create a dictionary student = {'name': 'Alice', 'age': 20, 'grade': 'A'} and retrieve Alice’s age using get().\n",
    "\n",
    "student = {'name': 'Alice', 'age': 20, 'grade': 'A'}\n",
    "\n",
    "# Retrieve Alice's age using get()\n",
    "age = student.get('age')\n",
    "\n",
    "print(\"Alice's age:\", age)\n"
   ]
  },
  {
   "cell_type": "code",
   "execution_count": 23,
   "id": "3a0ac90b-a1a8-4453-92e7-ed317fd9354f",
   "metadata": {},
   "outputs": [
    {
     "name": "stdout",
     "output_type": "stream",
     "text": [
      "Updated dictionary: {'name': 'Alice', 'age': 20, 'grade': 'A', 'school': 'XYZ High School'}\n"
     ]
    }
   ],
   "source": [
    "#Add a new key-value pair 'school': 'XYZ High School' to the dictionary.\n",
    "student = {'name': 'Alice', 'age': 20, 'grade': 'A'}\n",
    "\n",
    "# Add new key-value pair\n",
    "student['school'] = 'XYZ High School'\n",
    "\n",
    "print(\"Updated dictionary:\", student)\n"
   ]
  },
  {
   "cell_type": "code",
   "execution_count": 24,
   "id": "2cc3816f-6527-4031-8b7f-af0482cb91ea",
   "metadata": {},
   "outputs": [
    {
     "name": "stdout",
     "output_type": "stream",
     "text": [
      "Keys: dict_keys(['name', 'age', 'city'])\n"
     ]
    }
   ],
   "source": [
    "#Given person = {'name': 'John', 'age': 30, 'city': 'New York'}, print only the keys.\n",
    "person = {'name': 'John', 'age': 30, 'city': 'New York'}\n",
    "\n",
    "print(\"Keys:\", person.keys())\n"
   ]
  },
  {
   "cell_type": "code",
   "execution_count": 25,
   "id": "e614996b-5efe-4617-8f84-a3536107ab20",
   "metadata": {},
   "outputs": [
    {
     "name": "stdout",
     "output_type": "stream",
     "text": [
      "Values: dict_values([10, 20, 30])\n"
     ]
    }
   ],
   "source": [
    "#Retrieve and print only the values of {'x': 10, 'y': 20, 'z': 30}.\n",
    "my_dict = {'x': 10, 'y': 20, 'z': 30}\n",
    "\n",
    "# Print only the values\n",
    "print(\"Values:\", my_dict.values())\n"
   ]
  },
  {
   "cell_type": "code",
   "execution_count": 26,
   "id": "8aa0dce7-3dce-4ad1-874e-84baced8156a",
   "metadata": {},
   "outputs": [
    {
     "name": "stdout",
     "output_type": "stream",
     "text": [
      "Updated dictionary: {'name': 'Anna', 'age': 25}\n"
     ]
    }
   ],
   "source": [
    "#Remove the key `'city'` from `{'name': 'Anna', 'city': 'Paris', 'age': 25}` and print the updated dictionary.\n",
    "person = {'name': 'Anna', 'city': 'Paris', 'age': 25}\n",
    "\n",
    "# Remove the 'city' key\n",
    "person.pop('city')\n",
    "\n",
    "print(\"Updated dictionary:\", person)\n"
   ]
  },
  {
   "cell_type": "code",
   "execution_count": 33,
   "id": "4340c0cd-23fd-436b-9b9b-95340637c5c5",
   "metadata": {},
   "outputs": [
    {
     "name": "stdout",
     "output_type": "stream",
     "text": [
      "Merged dictionary: {'a': 1, 'b': 2, 'c': 3, 'd': 4}\n"
     ]
    }
   ],
   "source": [
    "#Merge two dictionaries:  \n",
    "dict1 = {'a': 1, 'b': 2}\n",
    "dict2 = {'c': 3, 'd': 4}\n",
    "\n",
    "merged_dict = {**dict1, **dict2}\n",
    "\n",
    "print(\"Merged dictionary:\", merged_dict)\n",
    "\n"
   ]
  },
  {
   "cell_type": "code",
   "execution_count": 29,
   "id": "22baaa3b-7b66-4ffc-81fc-7d400ccf1ea6",
   "metadata": {},
   "outputs": [
    {
     "name": "stdout",
     "output_type": "stream",
     "text": [
      "Updated grades: {'Math': 90, 'Science': 85, 'English': 95}\n"
     ]
    }
   ],
   "source": [
    "#Given `grades = {'Math': 90, 'Science': 85, 'English': 88}`, update the English grade to `95`.\n",
    "grades = {'Math': 90, 'Science': 85, 'English': 88}\n",
    "\n",
    "# Update the English grade\n",
    "grades['English'] = 95\n",
    "\n",
    "print(\"Updated grades:\", grades)\n"
   ]
  },
  {
   "cell_type": "code",
   "execution_count": 30,
   "id": "51eadc84-02ec-470e-a631-101e577caf2d",
   "metadata": {},
   "outputs": [
    {
     "name": "stdout",
     "output_type": "stream",
     "text": [
      "Updated list: [10, 20, 30, 40, 50]\n"
     ]
    }
   ],
   "source": [
    "#Convert the tuple (10, 20, 30, 40) into a list and append 50.\n",
    "my_tuple = (10, 20, 30, 40)\n",
    "\n",
    "# Convert tuple to list\n",
    "my_list = list(my_tuple)\n",
    "\n",
    "# Append 50 to the list\n",
    "my_list.append(50)\n",
    "\n",
    "print(\"Updated list:\", my_list)\n"
   ]
  },
  {
   "cell_type": "code",
   "execution_count": 31,
   "id": "01c3bac0-a50d-422d-891d-41498ef67b5b",
   "metadata": {},
   "outputs": [
    {
     "name": "stdout",
     "output_type": "stream",
     "text": [
      "List of keys: ['apple', 'banana', 'cherry']\n"
     ]
    }
   ],
   "source": [
    "#Given a dictionary fruits = {'apple': 1, 'banana': 2, 'cherry': 3}, extract its keys into a list.\n",
    "fruits = {'apple': 1, 'banana': 2, 'cherry': 3}\n",
    "\n",
    "# Extract keys into a list\n",
    "keys_list = list(fruits.keys())\n",
    "\n",
    "print(\"List of keys:\", keys_list)\n"
   ]
  },
  {
   "cell_type": "code",
   "execution_count": 32,
   "id": "a6f978e8-cc71-41ea-8848-0a10c1b0fd9b",
   "metadata": {},
   "outputs": [
    {
     "name": "stdout",
     "output_type": "stream",
     "text": [
      "Converted tuple: (1, 2, 3, 4)\n"
     ]
    }
   ],
   "source": [
    "#Convert the list [1, 2, 3, 4] into a tuple and print the result.\n",
    "my_list = [1, 2, 3, 4]\n",
    "\n",
    "# Convert the list to a tuple\n",
    "my_tuple = tuple(my_list)\n",
    "\n",
    "print(\"Converted tuple:\", my_tuple)\n"
   ]
  },
  {
   "cell_type": "code",
   "execution_count": null,
   "id": "14aa4748-30ef-4a7a-b774-b0557bc2656e",
   "metadata": {},
   "outputs": [],
   "source": []
  }
 ],
 "metadata": {
  "kernelspec": {
   "display_name": "Python [conda env:base] *",
   "language": "python",
   "name": "conda-base-py"
  },
  "language_info": {
   "codemirror_mode": {
    "name": "ipython",
    "version": 3
   },
   "file_extension": ".py",
   "mimetype": "text/x-python",
   "name": "python",
   "nbconvert_exporter": "python",
   "pygments_lexer": "ipython3",
   "version": "3.13.5"
  }
 },
 "nbformat": 4,
 "nbformat_minor": 5
}
