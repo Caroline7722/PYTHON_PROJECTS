{
 "cells": [
  {
   "cell_type": "markdown",
   "id": "15cb2fb8-7313-445b-8096-764a22efb956",
   "metadata": {},
   "source": [
    "# **Control Flow Exercises**"
   ]
  },
  {
   "cell_type": "markdown",
   "id": "9b3638fb-bf5b-4406-95c3-ae0f775b591b",
   "metadata": {},
   "source": [
    "## Question 1  \n",
    "\n",
    "Write a for-loop that iterates over a range of numbers from 1 to 50 and prints out theh square of each number."
   ]
  },
  {
   "cell_type": "code",
   "execution_count": 33,
   "id": "81bdf00f-5b41-454c-9b89-432a97757f7e",
   "metadata": {},
   "outputs": [
    {
     "name": "stdout",
     "output_type": "stream",
     "text": [
      "[1, 4, 9, 16, 25, 36, 49, 64, 81, 100, 121, 144, 169, 196, 225, 256, 289, 324, 361, 400, 441, 484, 529, 576, 625, 676, 729, 784, 841, 900, 961, 1024, 1089, 1156, 1225, 1296, 1369, 1444, 1521, 1600, 1681, 1764, 1849, 1936, 2025, 2116, 2209, 2304, 2401, 2500]\n"
     ]
    }
   ],
   "source": [
    "numbers = list(range(1, 51))\n",
    "square = []\n",
    "for i in numbers:\n",
    "    num = i ** 2\n",
    "    square.append(num)\n",
    "print(square)"
   ]
  },
  {
   "cell_type": "markdown",
   "id": "d9dd47cf-985a-46be-9161-d5296721b96c",
   "metadata": {},
   "source": [
    "## Question 2  \n",
    "\n",
    "Write a for-loop to find the sum of the first 100 positive integers."
   ]
  },
  {
   "cell_type": "code",
   "execution_count": 2,
   "id": "63af7767-dc64-45b1-912e-58230181b282",
   "metadata": {},
   "outputs": [
    {
     "name": "stdout",
     "output_type": "stream",
     "text": [
      "[1, 2, 3, 4, 5, 6, 7, 8, 9, 10, 11, 12, 13, 14, 15, 16, 17, 18, 19, 20, 21, 22, 23, 24, 25, 26, 27, 28, 29, 30, 31, 32, 33, 34, 35, 36, 37, 38, 39, 40, 41, 42, 43, 44, 45, 46, 47, 48, 49, 50, 51, 52, 53, 54, 55, 56, 57, 58, 59, 60, 61, 62, 63, 64, 65, 66, 67, 68, 69, 70, 71, 72, 73, 74, 75, 76, 77, 78, 79, 80, 81, 82, 83, 84, 85, 86, 87, 88, 89, 90, 91, 92, 93, 94, 95, 96, 97, 98, 99, 100]\n"
     ]
    }
   ],
   "source": [
    "n = list(range(1,101))\n",
    "print(n)"
   ]
  },
  {
   "cell_type": "code",
   "execution_count": 1,
   "id": "7bfa54d5-4b3e-43d3-92a6-45018c917c8f",
   "metadata": {},
   "outputs": [
    {
     "name": "stdout",
     "output_type": "stream",
     "text": [
      "5050\n"
     ]
    }
   ],
   "source": [
    "n = list(range(1,101))\n",
    "total = 0\n",
    "for item in n:\n",
    "    total += item\n",
    "print(total)"
   ]
  },
  {
   "cell_type": "markdown",
   "id": "98740c85-f1be-4450-99b5-4818da73b9ca",
   "metadata": {},
   "source": [
    "## Question 3  \n",
    "\n",
    "Write a program that asks a user to input a string. Your program should be able to do the following:  \n",
    "1. Display the length of the string to the user\n",
    "2. Print out each letter in the string."
   ]
  },
  {
   "cell_type": "code",
   "execution_count": 3,
   "id": "28dc2a94-157e-471c-aef7-2cbaa1e564a2",
   "metadata": {},
   "outputs": [
    {
     "name": "stdin",
     "output_type": "stream",
     "text": [
      "Enter a string: We are Group 5\n"
     ]
    },
    {
     "name": "stdout",
     "output_type": "stream",
     "text": [
      "Length of the string is: 14\n",
      "Letters in the string are:\n",
      "W\n",
      "e\n",
      " \n",
      "a\n",
      "r\n",
      "e\n",
      " \n",
      "G\n",
      "r\n",
      "o\n",
      "u\n",
      "p\n",
      " \n",
      "5\n"
     ]
    }
   ],
   "source": [
    "user_input = input(\"Enter a string:\")\n",
    "print(\"Length of the string is:\", len(user_input))\n",
    "print(\"Letters in the string are:\")\n",
    "for letter in user_input:\n",
    "    print(letter)"
   ]
  },
  {
   "cell_type": "markdown",
   "id": "74abe514-4c20-4e8b-ad1f-9e1159d210f1",
   "metadata": {},
   "source": [
    "## Question 4\n",
    "\n",
    "Write a program to ask the user for a numerical input. Your program should be able to find the factorial of the number given by the user."
   ]
  },
  {
   "cell_type": "code",
   "execution_count": 22,
   "id": "bff4070c-9f6d-4f66-bb9c-2172a765cc59",
   "metadata": {},
   "outputs": [
    {
     "name": "stdin",
     "output_type": "stream",
     "text": [
      "Enter any number:  5\n"
     ]
    },
    {
     "name": "stdout",
     "output_type": "stream",
     "text": [
      "The factorial of 5 is 120\n"
     ]
    }
   ],
   "source": [
    "num = int(input(\"Enter any number: \"))\n",
    "if num < 0:\n",
    "    print(\"Factorial is not defined for negative numbers.\")\n",
    "elif num == 0:\n",
    "    print(\"The factorial of 0 is 1.\")\n",
    "else:\n",
    "    factorial = 1\n",
    "    for i in range(1, num + 1):\n",
    "        factorial *= i\n",
    "    print(\"The factorial of\", num, \"is\", factorial)"
   ]
  },
  {
   "cell_type": "markdown",
   "id": "5b9d9cab-d212-4a9b-9b5e-d1cfbe0fb1c0",
   "metadata": {},
   "source": [
    "## Question 5\n",
    "\n",
    "Write a program that asks a user for a number and checks if the number is a prime number or not."
   ]
  },
  {
   "cell_type": "code",
   "execution_count": 19,
   "id": "a49f1275-2b43-48e0-a0d6-4ce81c88e323",
   "metadata": {},
   "outputs": [
    {
     "name": "stdin",
     "output_type": "stream",
     "text": [
      "Enter a number:  5\n"
     ]
    },
    {
     "name": "stdout",
     "output_type": "stream",
     "text": [
      "5 is a prime number.\n"
     ]
    }
   ],
   "source": [
    "num = int(input(\"Enter a number: \"))\n",
    "if num <= 1:\n",
    "    print(f\"{num} is not a prime number.\")\n",
    "else:\n",
    "    for i in range(2, num):\n",
    "        if num % i == 0:\n",
    "            print(f\"{num} is not a prime number.\")\n",
    "            break\n",
    "    else:\n",
    "        print(f\"{num} is a prime number.\")"
   ]
  }
 ],
 "metadata": {
  "kernelspec": {
   "display_name": "Python 3 (ipykernel)",
   "language": "python",
   "name": "python3"
  },
  "language_info": {
   "codemirror_mode": {
    "name": "ipython",
    "version": 3
   },
   "file_extension": ".py",
   "mimetype": "text/x-python",
   "name": "python",
   "nbconvert_exporter": "python",
   "pygments_lexer": "ipython3",
   "version": "3.13.5"
  }
 },
 "nbformat": 4,
 "nbformat_minor": 5
}
